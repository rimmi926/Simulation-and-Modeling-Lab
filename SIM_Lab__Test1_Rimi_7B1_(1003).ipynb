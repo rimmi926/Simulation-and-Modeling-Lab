{
  "nbformat": 4,
  "nbformat_minor": 0,
  "metadata": {
    "colab": {
      "provenance": []
    },
    "kernelspec": {
      "name": "python3",
      "display_name": "Python 3"
    },
    "language_info": {
      "name": "python"
    }
  },
  "cells": [
    {
      "cell_type": "markdown",
      "source": [
        "# 1. Basic"
      ],
      "metadata": {
        "id": "0Kc3UX1UuuUO"
      }
    },
    {
      "cell_type": "code",
      "source": [
        "import numpy as np\n",
        "\n",
        "scores = np.array([93,83,69,62,75,93,73,77,65,65,78,90,94,78,57,76,56,78,84,92])\n",
        "\n",
        "mean = np.mean(scores)\n",
        "pop_var = np.var(scores, ddof=0)\n",
        "samp_var = np.var(scores, ddof=1)\n",
        "pop_std = np.std(scores, ddof=0)\n",
        "samp_std = np.std(scores, ddof=1)\n",
        "\n",
        "print(f\"Mean: {mean:.2f}\")\n",
        "print(f\"Population Variance: {pop_var:.2f}\")\n",
        "print(f\"Sample Variance: {samp_var:.2f}\")\n",
        "print(f\"Population Std Dev: {pop_std:.2f}\")\n",
        "print(f\"Sample Std Dev: {samp_std:.2f}\")\n"
      ],
      "metadata": {
        "colab": {
          "base_uri": "https://localhost:8080/"
        },
        "id": "c5XIPjb8uxyG",
        "outputId": "4295e80b-b192-4bc7-ac9c-29bcf7c72b90"
      },
      "execution_count": 3,
      "outputs": [
        {
          "output_type": "stream",
          "name": "stdout",
          "text": [
            "Mean: 76.90\n",
            "Population Variance: 136.09\n",
            "Sample Variance: 143.25\n",
            "Population Std Dev: 11.67\n",
            "Sample Std Dev: 11.97\n"
          ]
        }
      ]
    },
    {
      "cell_type": "markdown",
      "source": [
        "#2. Random Number Generation"
      ],
      "metadata": {
        "id": "afMnlkINu2o3"
      }
    },
    {
      "cell_type": "code",
      "source": [
        "import matplotlib.pyplot as plt\n",
        "\n",
        "np.random.seed(42)\n",
        "generated = np.random.normal(mean, pop_std, 20)\n",
        "\n",
        "plt.figure(figsize=(10,4))\n",
        "plt.subplot(1,2,1)\n",
        "plt.hist(scores, bins=8, color='skyblue')\n",
        "plt.title(\"Original Scores\")\n",
        "plt.subplot(1,2,2)\n",
        "plt.hist(generated, bins=8, color='lightgreen')\n",
        "plt.title(\"Generated Normal Data\")\n",
        "plt.tight_layout()\n",
        "plt.show()"
      ],
      "metadata": {
        "colab": {
          "base_uri": "https://localhost:8080/",
          "height": 407
        },
        "id": "TRL18iMTu5tm",
        "outputId": "a176e6ec-fcb9-4206-f04c-95edee360d91"
      },
      "execution_count": 4,
      "outputs": [
        {
          "output_type": "display_data",
          "data": {
            "text/plain": [
              "<Figure size 1000x400 with 2 Axes>"
            ],
            "image/png": "[encoded data removed]"
          },
          "metadata": {}
        }
      ]
    },
    {
      "cell_type": "markdown",
      "source": [
        "# 3. Monte Carlo Simulation"
      ],
      "metadata": {
        "id": "onCLmc3-vCsu"
      }
    },
    {
      "cell_type": "code",
      "source": [
        "samples = np.random.normal(mean, pop_std, 100000)\n",
        "prob = np.mean(samples >= 75)\n",
        "print(f\"Probability(score ≥ 75): {prob:.4f}\")"
      ],
      "metadata": {
        "colab": {
          "base_uri": "https://localhost:8080/"
        },
        "id": "fP-Pvr1rvEiO",
        "outputId": "4032c371-04a1-4e72-e3b7-edebfa686662"
      },
      "execution_count": 5,
      "outputs": [
        {
          "output_type": "stream",
          "name": "stdout",
          "text": [
            "Probability(score ≥ 75): 0.5653\n"
          ]
        }
      ]
    },
    {
      "cell_type": "markdown",
      "source": [
        "#4. Hypothesis Testing"
      ],
      "metadata": {
        "id": "UixHIsdzvKEW"
      }
    },
    {
      "cell_type": "code",
      "source": [
        "from scipy import stats\n",
        "\n",
        "id_last3 = 123   # change this\n",
        "hyp_mean = (id_last3 % 50) + 50\n",
        "\n",
        "t_stat, p_val = stats.ttest_1samp(scores, hyp_mean)\n",
        "print(f\"Hypothesized Mean: {hyp_mean}\")\n",
        "print(f\"t-statistic: {t_stat:.4f}, p-value: {p_val:.4f}\")\n",
        "\n",
        "if p_val < 0.05:\n",
        "    print(\"Reject the null hypothesis.\")\n",
        "else:\n",
        "    print(\"Fail to reject the null hypothesis.\")\n"
      ],
      "metadata": {
        "colab": {
          "base_uri": "https://localhost:8080/"
        },
        "id": "wmkaCMcxvLmO",
        "outputId": "472067dc-1645-4503-befc-d160e3a622bf"
      },
      "execution_count": 6,
      "outputs": [
        {
          "output_type": "stream",
          "name": "stdout",
          "text": [
            "Hypothesized Mean: 73\n",
            "t-statistic: 1.4572, p-value: 0.1614\n",
            "Fail to reject the null hypothesis.\n"
          ]
        }
      ]
    }
  ]
}