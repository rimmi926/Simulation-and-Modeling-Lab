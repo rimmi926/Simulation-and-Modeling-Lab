{
  "nbformat": 4,
  "nbformat_minor": 0,
  "metadata": {
    "colab": {
      "provenance": []
    },
    "kernelspec": {
      "name": "python3",
      "display_name": "Python 3"
    },
    "language_info": {
      "name": "python"
    }
  },
  "cells": [
    {
      "cell_type": "markdown",
      "source": [
        "# Chi Square Fit Test\n",
        "Chi-Square Goodness-of-Fit Test in Python"
      ],
      "metadata": {
        "id": "XKu7lB0vFp7o"
      }
    },
    {
      "cell_type": "markdown",
      "source": [
        "## Import Necessary Libraries"
      ],
      "metadata": {
        "id": "BV6cBFc5VyBa"
      }
    },
    {
      "cell_type": "code",
      "source": [
        "import numpy as np\n",
        "import scipy.stats as stats\n",
        "import matplotlib.pyplot as plt"
      ],
      "metadata": {
        "id": "Mr4w6AlkVxuL"
      },
      "execution_count": null,
      "outputs": []
    },
    {
      "cell_type": "markdown",
      "source": [
        "## Step 1: Observed data (frequencies in each category)"
      ],
      "metadata": {
        "id": "XRsaQWSnV3iT"
      }
    },
    {
      "cell_type": "code",
      "source": [
        "observed = np.array([9,12,13,17,20,26])  # Example: Replace with your data"
      ],
      "metadata": {
        "id": "qoUtgheLV46a"
      },
      "execution_count": null,
      "outputs": []
    },
    {
      "cell_type": "markdown",
      "source": [
        "## Step 2: Expected frequencies (assuming uniform distribution)"
      ],
      "metadata": {
        "id": "B1gH2wvwV_Ar"
      }
    },
    {
      "cell_type": "code",
      "source": [
        "total = np.sum(observed)\n",
        "expected = np.full_like(observed, total / len(observed))  # Uniform distribution"
      ],
      "metadata": {
        "id": "HF8aF4PKWATL"
      },
      "execution_count": null,
      "outputs": []
    },
    {
      "cell_type": "markdown",
      "source": [
        "## Step 3: Chi-square statistic calculation"
      ],
      "metadata": {
        "id": "XP_BjLBAWDry"
      }
    },
    {
      "cell_type": "code",
      "source": [
        "chi_square_stat = np.sum(((observed - expected) ** 2) / expected)"
      ],
      "metadata": {
        "id": "aHLC1cMoWFbb"
      },
      "execution_count": null,
      "outputs": []
    },
    {
      "cell_type": "markdown",
      "source": [
        "## Step 4: Degrees of freedom"
      ],
      "metadata": {
        "id": "XHYIRkqOWPwq"
      }
    },
    {
      "cell_type": "code",
      "source": [
        "df = len(observed) - 1\n"
      ],
      "metadata": {
        "id": "JNegJknqWR5i"
      },
      "execution_count": null,
      "outputs": []
    },
    {
      "cell_type": "markdown",
      "source": [
        "## Step 5: Calculate the p-value and critical value"
      ],
      "metadata": {
        "id": "Uo-s_4KZWU7z"
      }
    },
    {
      "cell_type": "code",
      "source": [
        "p_value = 1 - stats.chi2.cdf(chi_square_stat, df)  # p-value\n",
        "alpha = 0.05  # Significance level\n",
        "critical_value = stats.chi2.ppf(1 - alpha, df)  # Critical value"
      ],
      "metadata": {
        "id": "3a7px9AsWXpa"
      },
      "execution_count": null,
      "outputs": []
    },
    {
      "cell_type": "markdown",
      "source": [
        "## Display the results"
      ],
      "metadata": {
        "id": "S5yCYFMvWadS"
      }
    },
    {
      "cell_type": "code",
      "source": [
        "print(f'Chi-square statistic: {chi_square_stat:.2f}')\n",
        "print(f'Degrees of freedom: {df}')\n",
        "print(f'Critical value (0.05 significance level): {critical_value:.2f}')\n",
        "print(f'P-value: {p_value:.4f}')"
      ],
      "metadata": {
        "colab": {
          "base_uri": "https://localhost:8080/"
        },
        "id": "NqZKeIdkWcYK",
        "outputId": "b246513a-409f-48ad-f659-a1377c69bff4"
      },
      "execution_count": null,
      "outputs": [
        {
          "output_type": "stream",
          "name": "stdout",
          "text": [
            "Chi-square statistic: 11.94\n",
            "Degrees of freedom: 5\n",
            "Critical value (0.05 significance level): 11.07\n",
            "P-value: 0.0357\n"
          ]
        }
      ]
    },
    {
      "cell_type": "markdown",
      "source": [
        "## Conclusion"
      ],
      "metadata": {
        "id": "44PO8Nq2WfZz"
      }
    },
    {
      "cell_type": "code",
      "source": [
        "if chi_square_stat > critical_value:\n",
        "    print('Reject the null hypothesis. Observed data does not match expected distribution.')\n",
        "else:\n",
        "    print('Fail to reject the null hypothesis. Observed data matches the expected distribution.')\n"
      ],
      "metadata": {
        "colab": {
          "base_uri": "https://localhost:8080/"
        },
        "id": "odt6ugj_WhfK",
        "outputId": "a54bc238-c74d-4f87-eb7c-8f3e791df227"
      },
      "execution_count": null,
      "outputs": [
        {
          "output_type": "stream",
          "name": "stdout",
          "text": [
            "Reject the null hypothesis. Observed data does not match expected distribution.\n"
          ]
        }
      ]
    },
    {
      "cell_type": "markdown",
      "source": [
        "## Plotting observed vs expected frequencies"
      ],
      "metadata": {
        "id": "zllAZPLOWjqC"
      }
    },
    {
      "cell_type": "code",
      "source": [
        "plt.bar(range(1, len(observed) + 1), observed, width=0.4, label='Observed', alpha=0.7)\n",
        "plt.bar(np.arange(1, len(observed) + 1) + 0.4, expected, width=0.4, label='Expected', alpha=0.7) #You can’t do range(...) + 0.4 because range objects don’t support adding a float to every element directly.\n",
        "plt.xlabel('Categories')\n",
        "plt.ylabel('Frequencies')\n",
        "plt.title('Observed vs Expected Frequencies')\n",
        "plt.legend()\n",
        "plt.show()"
      ],
      "metadata": {
        "colab": {
          "base_uri": "https://localhost:8080/",
          "height": 472
        },
        "id": "PKKUsSlRWk9z",
        "outputId": "769525db-d91f-42c9-85f3-9449179c1293"
      },
      "execution_count": null,
      "outputs": [
        {
          "output_type": "display_data",
          "data": {
            "text/plain": [
              "<Figure size 640x480 with 1 Axes>"
            ],
            "image/png": "[encoded data removed]"
          },
          "metadata": {}
        }
      ]
    }
  ]
}